{
 "cells": [
  {
   "cell_type": "markdown",
   "metadata": {},
   "source": [
    "## CS184: Computer Graphics\n",
    "## Sping 2022\n",
    "## Assignment 2: Meshedit\n",
    "\n",
    "## Prince Wang"
   ]
  },
  {
   "cell_type": "markdown",
   "metadata": {},
   "source": [
    "## Overview"
   ]
  },
  {
   "cell_type": "markdown",
   "metadata": {},
   "source": [
    "\n",
    "\n",
    "An overview of the project, your approach to and implementation for each of the parts, and what problems you encountered and how you solved them. Strive for clarity and succinctness.\n",
    "On each part, make sure to include the results described in the corresponding Deliverables section in addition to your explanation. If you failed to generate any results correctly, provide a brief explanation of why.\n",
    "The final (optional) part for the art competition is where you have the opportunity to be creative and individual, so be sure to provide a good description of what you were going for and how you implemented it.\n",
    "Clearly indicate any extra credit items you completed, and provide a thorough explanation and illustration for each of them."
   ]
  },
  {
   "cell_type": "markdown",
   "metadata": {},
   "source": [
    "## Task 1: Bezier Curves with 1D de Casteljau Subdivision (10 pts)"
   ]
  },
  {
   "cell_type": "markdown",
   "metadata": {},
   "source": [
    "### Requirements\n",
    "- Briefly explain de Casteljau's algorithm and how you implemented it in order to evaluate Bezier curves.\n",
    "- Take a look at the provided .bzc files and create your own Bezier curve with 6 control points of your choosing. Use this Bezier curve for your screenshots below.\n",
    "- Show screenshots of each step / level of the evaluation from the original control points down to the final evaluated point. Press E to step through. Toggle C to show the completed Bezier curve as well.\n",
    "- Show a screenshot of a slightly different Bezier curve by moving the original control points around and modifying the parameter tt via mouse scrolling."
   ]
  },
  {
   "cell_type": "markdown",
   "metadata": {},
   "source": [
    "####  Explain de Casteljau's algorithm and how you implemented it in order to evaluate Bezier curves:"
   ]
  },
  {
   "cell_type": "markdown",
   "metadata": {},
   "source": [
    "de Casteljau's algorithm is a recursive method to evaluate a Bezier curve. For an order n bezier curve, we first specify n+1 control points. Then, we insert a point t on every line that connects the two consecutive control points (algebraically this is equivalent to linearly interpolating on the two end points). We do this for all lines, resulting in n points. Using these n points we create n-1 points. We recursively apply this procedure until we have one point left. The trajectroy that this point went through will be our curve. Below is an example from lecture slide that represents this algorithm in algebraic format:\n",
    "\n",
    "<table><tr>\n",
    "    \n",
    "<td> <img src=\"./webpage_img/task1_1.png\" style=\"width: 400px;\"/>\n",
    "     <figcaption align=\"middle\" style=\"font-size: 24;\">  </figcaption></td>\n",
    " \n",
    "    \n",
    "    \n",
    "\n",
    "</tr></table>\n"
   ]
  },
  {
   "cell_type": "markdown",
   "metadata": {},
   "source": [
    "#### Take a look at the provided .bzc files and create your own Bezier curve with 6 control points of your choosing. Use this Bezier curve for your screenshots below.\n",
    "#### Show screenshots of each step / level of the evaluation from the original control points down to the final evaluated point. Press E to step through. Toggle C to show the completed Bezier curve as well.\n",
    "\n",
    "<table><tr>\n",
    "    \n",
    "<td> <img src=\"./webpage_img/task1_2.png\" style=\"width: 400px;\"/>\n",
    "     <figcaption align=\"middle\" style=\"font-size: 24;\"> </figcaption></td>\n",
    "\n",
    "<td> <img src=\"./webpage_img/task1_3.png\" style=\"width: 400px;\"/>\n",
    "     <figcaption align=\"middle\" style=\"font-size: 24;\"> </figcaption></td>\n",
    "\n",
    "</tr></table>\n",
    "\n",
    "<table><tr>\n",
    "    \n",
    "<td> <img src=\"./webpage_img/task1_4.png\" style=\"width: 400px;\"/>\n",
    "     <figcaption align=\"middle\" style=\"font-size: 24;\"> </figcaption></td>\n",
    "\n",
    "<td> <img src=\"./webpage_img/task1_5.png\" style=\"width: 400px;\"/>\n",
    "     <figcaption align=\"middle\" style=\"font-size: 24;\"> </figcaption></td>\n",
    "\n",
    "</tr></table>\n",
    "\n",
    "<table><tr>\n",
    "    \n",
    "<td> <img src=\"./webpage_img/task1_6.png\" style=\"width: 400px;\"/>\n",
    "     <figcaption align=\"middle\" style=\"font-size: 24;\"> </figcaption></td>\n",
    "\n",
    "<td> <img src=\"./webpage_img/task1_7.png\" style=\"width: 400px;\"/>\n",
    "     <figcaption align=\"middle\" style=\"font-size: 24;\"> </figcaption></td>\n",
    "\n",
    "</tr></table>\n",
    "\n",
    "<table><tr>\n",
    "    \n",
    "<td> <img src=\"./webpage_img/task1_8.png\" style=\"width: 500px;\"/>\n",
    "     <figcaption align=\"middle\" style=\"font-size: 24;\"> </figcaption></td>\n",
    "\n",
    "\n",
    "</tr></table>"
   ]
  },
  {
   "cell_type": "markdown",
   "metadata": {},
   "source": [
    "#### Show a screenshot of a slightly different Bezier curve by moving the original control points around and modifying the parameter tt via mouse scrolling."
   ]
  },
  {
   "cell_type": "markdown",
   "metadata": {},
   "source": [
    "<table><tr>\n",
    "    \n",
    "<td> <img src=\"./webpage_img/task1_9.png\" style=\"width: 500px;\"/>\n",
    "     <figcaption align=\"middle\" style=\"font-size: 24;\"> </figcaption></td>\n",
    "\n",
    "\n",
    "</tr></table>"
   ]
  },
  {
   "cell_type": "markdown",
   "metadata": {},
   "source": [
    "## Task 2: Bezier Surfaces with Separable 1D de Casteljau (15 pts)"
   ]
  },
  {
   "cell_type": "markdown",
   "metadata": {},
   "source": [
    "### requirements\n",
    "- Briefly explain how de Casteljau algorithm extends to Bezier surfaces and how you implemented it in order to evaluate Bezier surfaces.\n",
    "- Show a screenshot of bez/teapot.bez (not .dae) evaluated by your implementation.\n"
   ]
  },
  {
   "cell_type": "markdown",
   "metadata": {},
   "source": [
    "#### explain how de Casteljau algorithm extends to Bezier surfaces and how you implemented it in order to evaluate Bezier surfaces\n",
    "\n",
    "The key to extending the algorithm onto Bezier surface is that a surface can be constructed using a series of curves. If we have a series of curves across an axis, then if we construct a curve by connecting the points along another axis, and move this curve along the other axis, we will create a surface.\n",
    "\n",
    "<table><tr>\n",
    "    \n",
    "<td> <img src=\"./webpage_img/task2_2.png\" style=\"width: 500px;\"/>\n",
    "     <figcaption align=\"middle\" style=\"font-size: 24;\"> </figcaption></td>\n",
    "\n",
    "\n",
    "</tr></table>\n",
    "\n",
    "In terms of the algorithm and implementation, it is the following. Given a (u,v) coordinate, we first construct bezier curves along the u direction, creating a series of bezier curves using the original de Casteljau algorithm. Then, taking the points at u we received from creating the bezier curves, we use this points and construct a bezier curve along the v direction, getting the final point that we want."
   ]
  },
  {
   "cell_type": "markdown",
   "metadata": {},
   "source": [
    "#### Show a screenshot of bez/teapot.bez (not .dae) evaluated by your implementation.\n",
    "<table><tr>\n",
    "    \n",
    "<td> <img src=\"./webpage_img/task2_1.png\" style=\"width: 500px;\"/>\n",
    "     <figcaption align=\"middle\" style=\"font-size: 24;\"> </figcaption></td>\n",
    "\n",
    "\n",
    "</tr></table>"
   ]
  },
  {
   "cell_type": "markdown",
   "metadata": {},
   "source": [
    "## Task 3: Area-Weighted Vertex Normals (10 pts)"
   ]
  },
  {
   "cell_type": "markdown",
   "metadata": {},
   "source": [
    "### requirements\n",
    "- Briefly explain how you implemented the area-weighted vertex normals.\n",
    "- Show screenshots of dae/teapot.dae (not .bez) comparing teapot shading with and without vertex normals. Use Q to toggle default flat shading and Phong shading.\n"
   ]
  },
  {
   "cell_type": "markdown",
   "metadata": {},
   "source": [
    "#### Briefly explain how you implemented the area-weighted vertex normals.\n",
    "We utilizes the haldedgemesh data structure. To compute the area-weighted vertex normal, we traverse through all the faces that the vertex is attached to. Then, we aggregate the face normal vector of each faces, and weigh them by their area (which can be computed by taking the magnitude of the cross product of two edges divided by 2). Finally, we normalized our result vector to get the vertex normal. "
   ]
  },
  {
   "cell_type": "markdown",
   "metadata": {},
   "source": [
    "#### screenshots of dae/teapot.dae (not .bez) comparing teapot shading with and without vertex normals\n",
    "<table><tr>\n",
    "    \n",
    "<td> <img src=\"./webpage_img/task3_1.png\" style=\"width: 500px;\"/>\n",
    "     <figcaption align=\"middle\" style=\"font-size: 24;\"> default flat shading </figcaption></td>\n",
    "\n",
    "\n",
    "</tr></table>"
   ]
  },
  {
   "cell_type": "markdown",
   "metadata": {},
   "source": [
    "<table><tr>\n",
    "    \n",
    "<td> <img src=\"./webpage_img/task3_2.png\" style=\"width: 500px;\"/>\n",
    "     <figcaption align=\"middle\" style=\"font-size: 24;\"> phong shading </figcaption></td>\n",
    "\n",
    "\n",
    "</tr></table>"
   ]
  },
  {
   "cell_type": "markdown",
   "metadata": {},
   "source": [
    "## Task 4: Edge Flip (15 pts)"
   ]
  },
  {
   "cell_type": "markdown",
   "metadata": {},
   "source": [
    "### requirements\n",
    "- Briefly explain how you implemented the edge flip operation and describe any interesting implementation / debugging tricks you have used.\n",
    "- Show screenshots of the teapot before and after some edge flips.\n",
    "- Write about your eventful debugging journey, if you have experienced one."
   ]
  },
  {
   "cell_type": "markdown",
   "metadata": {},
   "source": [
    "#### Briefly explain how you implemented the edge flip operation and describe any interesting implementation / debugging tricks you have used.\n",
    "\n",
    "To implement edge flip, I retrieved all related variables such as vertices, faces, edges and half edges. Then, through a series of reassignment, I performed edge flip. I implemented and figured out the correct ordering of reassignment by drawing on my notebook a simple case of a diamond splited vertically in half, and examined how variables changed after the diamond became to be splitted horizontally. Here is a rough sequence of steps performed:\n",
    "\n",
    "Step 1: reassign the fields of all the 6 half edges inside the diamond, such that each 3 of them formed a close loop.\n",
    "Step 2: reassign the four half edges outside the diamond.\n",
    "Step 3: Check all other vertices, faces and edges, if there is a need to reassign, then do so.\n",
    "\n",
    "I did not have to debug much. In fact I was able to ran the code in my first try, so my coding journey is not very eventful."
   ]
  },
  {
   "cell_type": "markdown",
   "metadata": {},
   "source": [
    "<table><tr>\n",
    "    \n",
    "<td> <img src=\"./webpage_img/task4_1.png\" style=\"width: 500px;\"/>\n",
    "     <figcaption align=\"middle\" style=\"font-size: 24;\"> after </figcaption></td>\n",
    "     \n",
    "     \n",
    "\n",
    "\n",
    "</tr></table>"
   ]
  },
  {
   "cell_type": "markdown",
   "metadata": {},
   "source": [
    "<table><tr>\n",
    "    \n",
    "<td> <img src=\"./webpage_img/task4_2.png\" style=\"width: 500px;\"/>\n",
    "     <figcaption align=\"middle\" style=\"font-size: 24;\"> before </figcaption></td>\n",
    "     \n",
    "     \n",
    "\n",
    "\n",
    "</tr></table>"
   ]
  },
  {
   "cell_type": "markdown",
   "metadata": {},
   "source": [
    "## Task 5: Edge Split (15 pts)"
   ]
  },
  {
   "cell_type": "markdown",
   "metadata": {},
   "source": [
    "### requirements\n",
    "- Briefly explain how you implemented the edge split operation and describe any interesting implementation / debugging tricks you have used.\n",
    "- Show screenshots of a mesh before and after some edge splits.\n",
    "- Show screenshots of a mesh before and after a combination of both edge splits and edge flips."
   ]
  },
  {
   "cell_type": "markdown",
   "metadata": {},
   "source": [
    "#### Briefly explain how you implemented the edge split operation and describe any interesting implementation / debugging tricks you have used.\n",
    "\n",
    "The edge split is similar to the process of edge flip, but with a little more added complexity. We basically want to determine what relationship edges, halfedges, faces and vertices have with each other after splitting via reassigning. The challenge is that now we need to create new elements, but the rationale remain the same. I figured out an order of reassigning that ensured my function runs correctly through drawing on my notes, just like in task 4. A worthnoting point about the implementation is that we need to make sure we set isNew to true for our new elements."
   ]
  },
  {
   "cell_type": "markdown",
   "metadata": {},
   "source": [
    "#### comparison of before and after"
   ]
  },
  {
   "cell_type": "markdown",
   "metadata": {},
   "source": [
    "<table><tr>\n",
    "    \n",
    "<td> <img src=\"./webpage_img/task5_1.png\" style=\"width: 500px;\"/>\n",
    "     <figcaption align=\"middle\" style=\"font-size: 24;\"> before </figcaption></td>\n",
    "\n",
    "<td> <img src=\"./webpage_img/task5_2.png\" style=\"width: 500px;\"/>\n",
    "     <figcaption align=\"middle\" style=\"font-size: 24;\"> after edge split </figcaption></td>\n",
    "\n",
    "\n",
    "    \n",
    "  \n",
    "</tr></table>"
   ]
  },
  {
   "cell_type": "markdown",
   "metadata": {},
   "source": [
    "<table><tr>\n",
    "    \n",
    "<td> <img src=\"./webpage_img/task5_1.png\" style=\"width: 500px;\"/>\n",
    "     <figcaption align=\"middle\" style=\"font-size: 24;\"> before </figcaption></td>\n",
    "\n",
    "<td> <img src=\"./webpage_img/task5_3.png\" style=\"width: 500px;\"/>\n",
    "     <figcaption align=\"middle\" style=\"font-size: 24;\"> after edge split and edge flip </figcaption></td>\n",
    "\n",
    "\n",
    "    \n",
    "  \n",
    "</tr></table>"
   ]
  },
  {
   "cell_type": "markdown",
   "metadata": {},
   "source": []
  },
  {
   "cell_type": "markdown",
   "metadata": {},
   "source": [
    "## Task 6"
   ]
  },
  {
   "cell_type": "markdown",
   "metadata": {},
   "source": [
    "### requirements\n",
    "- Briefly explain how you implemented the loop subdivision and describe any interesting implementation / debugging tricks you have used.\n",
    "- Take some notes, as well as some screenshots, of your observations on how meshes behave after loop subdivision. What happens to sharp corners and edges? Can you reduce this effect by pre-splitting some edges?\n",
    "- Load dae/cube.dae. Perform several iterations of loop subdivision on the cube. Notice that the cube becomes slightly asymmetric after repeated subdivisions. Can you pre-process the cube with edge flips and splits so that the cube subdivides symmetrically? Document these effects and explain why they occur. Also explain how your pre-processing helps alleviate the effects."
   ]
  },
  {
   "cell_type": "markdown",
   "metadata": {},
   "source": [
    "#### Briefly explain how you implemented the loop subdivision and describe any interesting implementation / debugging tricks you have used.\n",
    "\n",
    "I used the method suggested by the project spec. Let me summarize it. We have three steps. First, we iterate through all the vertices and determine their new positions. We perform this computation before subdivision since this makes it much easier. Something worth noting is that we keep track of the old edges and vertices, since we will start splitting in the next step. Second, we begin the split, with differentiation between old and new edges to avoid a infinite loop/ We first go through existing edges and only split old edges. Then, we flip any edges that connects a old vertex with a new vertex. Lastly, we update the position of our vertices. I debug through print statements to make sure the amount of vertices and edges I am iterating through is correct."
   ]
  },
  {
   "cell_type": "markdown",
   "metadata": {},
   "source": [
    "#### Take some notes, as well as some screenshots, of your observations on how meshes behave after loop subdivision. What happens to sharp corners and edges? Can you reduce this effect by pre-splitting some edges?\n",
    "\n",
    "I noticed a few things. First of all, sharp corners and edges are smoothed out. This is probably because when we subdivide, the sharp corners are spread even into several edging, acting like a smoothing. I also noticed the mesh volume is getting smaller and smaller as we subdivide. I realized that pre-splitting helps maintain some corners and sharp edges as shown in the last two images below.\n",
    "\n",
    "<table><tr>\n",
    "    \n",
    "<td> <img src=\"./webpage_img/task6_1.png\" style=\"width: 500px;\"/>\n",
    "     <figcaption align=\"middle\" style=\"font-size: 24;\"> presplit:step1 </figcaption></td>\n",
    "\n",
    "<td> <img src=\"./webpage_img/task6_2.png\" style=\"width: 500px;\"/>\n",
    "     <figcaption align=\"middle\" style=\"font-size: 24;\"> presplit:step2 </figcaption></td>\n",
    "  \n",
    "</tr></table>\n",
    "\n",
    "<table><tr>\n",
    "    \n",
    "<td> <img src=\"./webpage_img/task6_3.png\" style=\"width: 500px;\"/>\n",
    "     <figcaption align=\"middle\" style=\"font-size: 24;\"> presplit:step3 </figcaption></td>\n",
    "\n",
    "<td> <img src=\"./webpage_img/task6_4.png\" style=\"width: 500px;\"/>\n",
    "     <figcaption align=\"middle\" style=\"font-size: 24;\"> presplit:step4 </figcaption></td>\n",
    "  \n",
    "</tr></table>\n",
    "\n",
    "<table><tr>\n",
    "    \n",
    "<td> <img src=\"./webpage_img/task6_5.png\" style=\"width: 500px;\"/>\n",
    "     <figcaption align=\"middle\" style=\"font-size: 24;\"> presplit:step5 another angle </figcaption></td>\n",
    "\n",
    "<td> <img src=\"./webpage_img/task6_6.png\" style=\"width: 500px;\"/>\n",
    "     <figcaption align=\"middle\" style=\"font-size: 24;\"> presplit:step5 </figcaption></td>\n",
    "  \n",
    "</tr></table>"
   ]
  },
  {
   "cell_type": "markdown",
   "metadata": {},
   "source": [
    "#### Load dae/cube.dae. Perform several iterations of loop subdivision on the cube. Notice that the cube becomes slightly asymmetric after repeated subdivisions. Can you pre-process the cube with edge flips and splits so that the cube subdivides symmetrically? Document these effects and explain why they occur. Also explain how your pre-processing helps alleviate the effects.\n",
    "\n",
    "We can pre-process the cube by splitting all of the edges on each face other than the ones on the boundary of each face. In other words, we make sure we have 4 identical triangles on each face of the cube. This helps make the cube subdivision symmetrical. \n",
    "\n",
    "The reason we see asymmetry before is that before we only have 2 triangles on each face, meaning that there will be specific corners that will draw multiple edges, making it overemphasized and pointy. Our preprocess helps making sure to eliminate these corners. Although as you can see it is still not perfectly spherical, we have made it symmetrical.\n",
    "\n",
    "#### Before preprocessing"
   ]
  },
  {
   "cell_type": "markdown",
   "metadata": {},
   "source": [
    "<table><tr>\n",
    "    \n",
    "<td> <img src=\"./webpage_img/task6_asym1.png\" style=\"width: 500px;\"/>\n",
    "     <figcaption align=\"middle\" style=\"font-size: 24;\"> asym:step1 </figcaption></td>\n",
    "\n",
    "<td> <img src=\"./webpage_img/task6_asym2.png\" style=\"width: 500px;\"/>\n",
    "     <figcaption align=\"middle\" style=\"font-size: 24;\"> asym:step2 </figcaption></td>\n",
    "  \n",
    "</tr></table>\n",
    "\n",
    "<table><tr>\n",
    "    \n",
    "<td> <img src=\"./webpage_img/task6_asym3.png\" style=\"width: 500px;\"/>\n",
    "     <figcaption align=\"middle\" style=\"font-size: 24;\"> asym:step3 </figcaption></td>\n",
    "\n",
    "<td> <img src=\"./webpage_img/task6_asym4.png\" style=\"width: 500px;\"/>\n",
    "     <figcaption align=\"middle\" style=\"font-size: 24;\"> asym:step4 </figcaption></td>\n",
    "  \n",
    "</tr></table>\n",
    "\n",
    "#### After preprocessing\n",
    "\n",
    "<table><tr>\n",
    "    \n",
    "<td> <img src=\"./webpage_img/task6_sym1.png\" style=\"width: 500px;\"/>\n",
    "     <figcaption align=\"middle\" style=\"font-size: 24;\"> sym:step1 </figcaption></td>\n",
    "\n",
    "<td> <img src=\"./webpage_img/task6_sym2.png\" style=\"width: 500px;\"/>\n",
    "     <figcaption align=\"middle\" style=\"font-size: 24;\"> sym:step2 </figcaption></td>\n",
    "  \n",
    "</tr></table>\n",
    "\n",
    "<table><tr>\n",
    "    \n",
    "<td> <img src=\"./webpage_img/task6_sym3.png\" style=\"width: 500px;\"/>\n",
    "     <figcaption align=\"middle\" style=\"font-size: 24;\"> sym:step3 </figcaption></td>\n",
    "\n",
    "<td> <img src=\"./webpage_img/task6_sym4.png\" style=\"width: 500px;\"/>\n",
    "     <figcaption align=\"middle\" style=\"font-size: 24;\"> sym:step4 </figcaption></td>\n",
    "  \n",
    "</tr></table>\n",
    "\n",
    "<table><tr>\n",
    "    \n",
    "<td> <img src=\"./webpage_img/task6_sym5.png\" style=\"width: 500px;\"/>\n",
    "     <figcaption align=\"middle\" style=\"font-size: 24;\"> sym:step5 </figcaption></td>\n",
    "  \n",
    "</tr></table>"
   ]
  },
  {
   "cell_type": "code",
   "execution_count": null,
   "metadata": {},
   "outputs": [],
   "source": []
  }
 ],
 "metadata": {
  "kernelspec": {
   "display_name": "Python 3",
   "language": "python",
   "name": "python3"
  },
  "language_info": {
   "codemirror_mode": {
    "name": "ipython",
    "version": 3
   },
   "file_extension": ".py",
   "mimetype": "text/x-python",
   "name": "python",
   "nbconvert_exporter": "python",
   "pygments_lexer": "ipython3",
   "version": "3.6.6"
  }
 },
 "nbformat": 4,
 "nbformat_minor": 2
}
